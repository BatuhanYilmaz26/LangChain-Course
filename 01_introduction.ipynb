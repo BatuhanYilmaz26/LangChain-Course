{
 "cells": [
  {
   "cell_type": "markdown",
   "metadata": {},
   "source": [
    "| Overview            | Components                           |\n",
    "| ----------------------------------------------- | ------------------------------------- |\n",
    "| ![Overview](images/overview.png) | ![Components](images/components.png) |\n"
   ]
  }
 ],
 "metadata": {
  "language_info": {
   "name": "python"
  },
  "orig_nbformat": 4
 },
 "nbformat": 4,
 "nbformat_minor": 2
}
